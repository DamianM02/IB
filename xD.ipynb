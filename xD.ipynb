{
 "cells": [
  {
   "cell_type": "code",
   "id": "initial_id",
   "metadata": {
    "collapsed": true,
    "ExecuteTime": {
     "end_time": "2025-03-08T04:33:36.921044Z",
     "start_time": "2025-03-08T04:33:36.568369Z"
    }
   },
   "source": [
    "import numpy as np\n",
    "import matplotlib.pyplot as plt\n",
    "import pandas as pd\n",
    "import sklearn as sk\n",
    "import torch\n",
    "from torch import nn\n",
    "from torch.utils.data import Dataset, DataLoader\n",
    "from sklearn.metrics import roc_auc_score\n",
    "\n",
    "\n",
    "device = torch.device(\"mps\" if torch.backends.mps.is_available() else \"cpu\")\n",
    "print(device)"
   ],
   "outputs": [
    {
     "name": "stdout",
     "output_type": "stream",
     "text": [
      "mps\n"
     ]
    }
   ],
   "execution_count": 133
  },
  {
   "metadata": {
    "ExecuteTime": {
     "end_time": "2025-03-08T15:19:41.002360Z",
     "start_time": "2025-03-08T15:19:40.954801Z"
    }
   },
   "cell_type": "code",
   "source": [
    "train = pd.read_csv('Blood_samples_dataset_balanced_2(f).csv')\n",
    "\n",
    "test = pd.read_csv('blood_samples_dataset_test.csv')\n",
    "train.duplicated().sum(), len(train) - train.duplicated().sum()"
   ],
   "id": "af3235abc294d2f4",
   "outputs": [
    {
     "data": {
      "text/plain": [
       "(2286, 65)"
      ]
     },
     "execution_count": 151,
     "metadata": {},
     "output_type": "execute_result"
    }
   ],
   "execution_count": 151
  },
  {
   "metadata": {
    "ExecuteTime": {
     "end_time": "2025-03-08T15:19:50.989995Z",
     "start_time": "2025-03-08T15:19:50.982926Z"
    }
   },
   "cell_type": "code",
   "source": [
    "train_ = train.drop_duplicates()\n",
    "len(train_)"
   ],
   "id": "5920602b98cb15f4",
   "outputs": [
    {
     "data": {
      "text/plain": [
       "65"
      ]
     },
     "execution_count": 152,
     "metadata": {},
     "output_type": "execute_result"
    }
   ],
   "execution_count": 152
  },
  {
   "metadata": {
    "ExecuteTime": {
     "end_time": "2025-03-08T15:19:56.912086Z",
     "start_time": "2025-03-08T15:19:56.904776Z"
    }
   },
   "cell_type": "code",
   "source": "test.duplicated().sum(), len(test) - test.duplicated().sum()",
   "id": "b2f478af0949ce84",
   "outputs": [
    {
     "data": {
      "text/plain": [
       "(0, 486)"
      ]
     },
     "execution_count": 153,
     "metadata": {},
     "output_type": "execute_result"
    }
   ],
   "execution_count": 153
  },
  {
   "metadata": {
    "ExecuteTime": {
     "end_time": "2025-03-08T15:20:05.893724Z",
     "start_time": "2025-03-08T15:20:05.887418Z"
    }
   },
   "cell_type": "code",
   "source": [
    "dataset_ = pd.concat([train_, test], axis=0, ignore_index=True)\n",
    "len(dataset_)"
   ],
   "id": "ce7a75046b042c46",
   "outputs": [
    {
     "data": {
      "text/plain": [
       "551"
      ]
     },
     "execution_count": 154,
     "metadata": {},
     "output_type": "execute_result"
    }
   ],
   "execution_count": 154
  },
  {
   "metadata": {
    "ExecuteTime": {
     "end_time": "2025-03-08T15:20:12.755911Z",
     "start_time": "2025-03-08T15:20:12.747495Z"
    }
   },
   "cell_type": "code",
   "source": "dataset_.duplicated().sum(), len(dataset_) - dataset_.duplicated().sum()",
   "id": "ddff6a73538749a2",
   "outputs": [
    {
     "data": {
      "text/plain": [
       "(0, 551)"
      ]
     },
     "execution_count": 155,
     "metadata": {},
     "output_type": "execute_result"
    }
   ],
   "execution_count": 155
  },
  {
   "metadata": {
    "ExecuteTime": {
     "end_time": "2025-03-08T15:21:48.148729Z",
     "start_time": "2025-03-08T15:21:48.128750Z"
    }
   },
   "cell_type": "code",
   "source": "train.describe()",
   "id": "bab1b12da45ac32c",
   "outputs": [
    {
     "data": {
      "text/plain": [
       "           Glucose  Cholesterol   Hemoglobin    Platelets  White Blood Cells  \\\n",
       "count  2351.000000  2351.000000  2351.000000  2351.000000        2351.000000   \n",
       "mean      0.362828     0.393648     0.586190     0.504027           0.511086   \n",
       "std       0.251889     0.239449     0.271498     0.303347           0.277270   \n",
       "min       0.010994     0.012139     0.003021     0.012594           0.010139   \n",
       "25%       0.129198     0.195818     0.346092     0.200865           0.259467   \n",
       "50%       0.351722     0.397083     0.609836     0.533962           0.527381   \n",
       "75%       0.582278     0.582178     0.791215     0.754841           0.743164   \n",
       "max       0.968460     0.905026     0.983306     0.999393           0.990786   \n",
       "\n",
       "       Red Blood Cells   Hematocrit  Mean Corpuscular Volume  \\\n",
       "count      2351.000000  2351.000000              2351.000000   \n",
       "mean          0.506590     0.507152                 0.492200   \n",
       "std           0.266565     0.285537                 0.275735   \n",
       "min           0.044565     0.011772                 0.046942   \n",
       "25%           0.263589     0.288132                 0.287532   \n",
       "50%           0.467431     0.493428                 0.453052   \n",
       "75%           0.743670     0.753657                 0.722293   \n",
       "max           1.000000     0.977520                 0.995263   \n",
       "\n",
       "       Mean Corpuscular Hemoglobin  Mean Corpuscular Hemoglobin Concentration  \\\n",
       "count                  2351.000000                                2351.000000   \n",
       "mean                      0.484459                                   0.562273   \n",
       "std                       0.315618                                   0.273281   \n",
       "min                       0.000554                                   0.006947   \n",
       "25%                       0.207938                                   0.355774   \n",
       "50%                       0.420723                                   0.603635   \n",
       "75%                       0.778160                                   0.741381   \n",
       "max                       0.963235                                   0.975586   \n",
       "\n",
       "       ...  Triglycerides        HbA1c  LDL Cholesterol  HDL Cholesterol  \\\n",
       "count  ...    2351.000000  2351.000000      2351.000000      2351.000000   \n",
       "mean   ...       0.374373     0.439112         0.421777         0.546079   \n",
       "std    ...       0.256981     0.263779         0.252124         0.269511   \n",
       "min    ...       0.005217     0.016256         0.033037         0.039505   \n",
       "25%    ...       0.184604     0.188750         0.217757         0.307132   \n",
       "50%    ...       0.317857     0.466375         0.413071         0.512941   \n",
       "75%    ...       0.572330     0.652514         0.604753         0.779378   \n",
       "max    ...       0.973679     0.950218         0.983826         0.989411   \n",
       "\n",
       "               ALT          AST   Heart Rate   Creatinine     Troponin  \\\n",
       "count  2351.000000  2351.000000  2351.000000  2351.000000  2351.000000   \n",
       "mean      0.434972     0.452138     0.582255     0.425075     0.454597   \n",
       "std       0.267388     0.242075     0.250915     0.229298     0.251189   \n",
       "min       0.007186     0.013013     0.114550     0.021239     0.007490   \n",
       "25%       0.211078     0.239659     0.339125     0.213026     0.288961   \n",
       "50%       0.373235     0.486317     0.610860     0.417295     0.426863   \n",
       "75%       0.710319     0.616181     0.800666     0.606719     0.682164   \n",
       "max       0.942549     0.994460     0.996873     0.925924     0.972803   \n",
       "\n",
       "       C-reactive Protein  \n",
       "count         2351.000000  \n",
       "mean             0.430308  \n",
       "std              0.243034  \n",
       "min              0.004867  \n",
       "25%              0.196192  \n",
       "50%              0.481601  \n",
       "75%              0.631426  \n",
       "max              0.797906  \n",
       "\n",
       "[8 rows x 24 columns]"
      ],
      "text/html": [
       "<div>\n",
       "<style scoped>\n",
       "    .dataframe tbody tr th:only-of-type {\n",
       "        vertical-align: middle;\n",
       "    }\n",
       "\n",
       "    .dataframe tbody tr th {\n",
       "        vertical-align: top;\n",
       "    }\n",
       "\n",
       "    .dataframe thead th {\n",
       "        text-align: right;\n",
       "    }\n",
       "</style>\n",
       "<table border=\"1\" class=\"dataframe\">\n",
       "  <thead>\n",
       "    <tr style=\"text-align: right;\">\n",
       "      <th></th>\n",
       "      <th>Glucose</th>\n",
       "      <th>Cholesterol</th>\n",
       "      <th>Hemoglobin</th>\n",
       "      <th>Platelets</th>\n",
       "      <th>White Blood Cells</th>\n",
       "      <th>Red Blood Cells</th>\n",
       "      <th>Hematocrit</th>\n",
       "      <th>Mean Corpuscular Volume</th>\n",
       "      <th>Mean Corpuscular Hemoglobin</th>\n",
       "      <th>Mean Corpuscular Hemoglobin Concentration</th>\n",
       "      <th>...</th>\n",
       "      <th>Triglycerides</th>\n",
       "      <th>HbA1c</th>\n",
       "      <th>LDL Cholesterol</th>\n",
       "      <th>HDL Cholesterol</th>\n",
       "      <th>ALT</th>\n",
       "      <th>AST</th>\n",
       "      <th>Heart Rate</th>\n",
       "      <th>Creatinine</th>\n",
       "      <th>Troponin</th>\n",
       "      <th>C-reactive Protein</th>\n",
       "    </tr>\n",
       "  </thead>\n",
       "  <tbody>\n",
       "    <tr>\n",
       "      <th>count</th>\n",
       "      <td>2351.000000</td>\n",
       "      <td>2351.000000</td>\n",
       "      <td>2351.000000</td>\n",
       "      <td>2351.000000</td>\n",
       "      <td>2351.000000</td>\n",
       "      <td>2351.000000</td>\n",
       "      <td>2351.000000</td>\n",
       "      <td>2351.000000</td>\n",
       "      <td>2351.000000</td>\n",
       "      <td>2351.000000</td>\n",
       "      <td>...</td>\n",
       "      <td>2351.000000</td>\n",
       "      <td>2351.000000</td>\n",
       "      <td>2351.000000</td>\n",
       "      <td>2351.000000</td>\n",
       "      <td>2351.000000</td>\n",
       "      <td>2351.000000</td>\n",
       "      <td>2351.000000</td>\n",
       "      <td>2351.000000</td>\n",
       "      <td>2351.000000</td>\n",
       "      <td>2351.000000</td>\n",
       "    </tr>\n",
       "    <tr>\n",
       "      <th>mean</th>\n",
       "      <td>0.362828</td>\n",
       "      <td>0.393648</td>\n",
       "      <td>0.586190</td>\n",
       "      <td>0.504027</td>\n",
       "      <td>0.511086</td>\n",
       "      <td>0.506590</td>\n",
       "      <td>0.507152</td>\n",
       "      <td>0.492200</td>\n",
       "      <td>0.484459</td>\n",
       "      <td>0.562273</td>\n",
       "      <td>...</td>\n",
       "      <td>0.374373</td>\n",
       "      <td>0.439112</td>\n",
       "      <td>0.421777</td>\n",
       "      <td>0.546079</td>\n",
       "      <td>0.434972</td>\n",
       "      <td>0.452138</td>\n",
       "      <td>0.582255</td>\n",
       "      <td>0.425075</td>\n",
       "      <td>0.454597</td>\n",
       "      <td>0.430308</td>\n",
       "    </tr>\n",
       "    <tr>\n",
       "      <th>std</th>\n",
       "      <td>0.251889</td>\n",
       "      <td>0.239449</td>\n",
       "      <td>0.271498</td>\n",
       "      <td>0.303347</td>\n",
       "      <td>0.277270</td>\n",
       "      <td>0.266565</td>\n",
       "      <td>0.285537</td>\n",
       "      <td>0.275735</td>\n",
       "      <td>0.315618</td>\n",
       "      <td>0.273281</td>\n",
       "      <td>...</td>\n",
       "      <td>0.256981</td>\n",
       "      <td>0.263779</td>\n",
       "      <td>0.252124</td>\n",
       "      <td>0.269511</td>\n",
       "      <td>0.267388</td>\n",
       "      <td>0.242075</td>\n",
       "      <td>0.250915</td>\n",
       "      <td>0.229298</td>\n",
       "      <td>0.251189</td>\n",
       "      <td>0.243034</td>\n",
       "    </tr>\n",
       "    <tr>\n",
       "      <th>min</th>\n",
       "      <td>0.010994</td>\n",
       "      <td>0.012139</td>\n",
       "      <td>0.003021</td>\n",
       "      <td>0.012594</td>\n",
       "      <td>0.010139</td>\n",
       "      <td>0.044565</td>\n",
       "      <td>0.011772</td>\n",
       "      <td>0.046942</td>\n",
       "      <td>0.000554</td>\n",
       "      <td>0.006947</td>\n",
       "      <td>...</td>\n",
       "      <td>0.005217</td>\n",
       "      <td>0.016256</td>\n",
       "      <td>0.033037</td>\n",
       "      <td>0.039505</td>\n",
       "      <td>0.007186</td>\n",
       "      <td>0.013013</td>\n",
       "      <td>0.114550</td>\n",
       "      <td>0.021239</td>\n",
       "      <td>0.007490</td>\n",
       "      <td>0.004867</td>\n",
       "    </tr>\n",
       "    <tr>\n",
       "      <th>25%</th>\n",
       "      <td>0.129198</td>\n",
       "      <td>0.195818</td>\n",
       "      <td>0.346092</td>\n",
       "      <td>0.200865</td>\n",
       "      <td>0.259467</td>\n",
       "      <td>0.263589</td>\n",
       "      <td>0.288132</td>\n",
       "      <td>0.287532</td>\n",
       "      <td>0.207938</td>\n",
       "      <td>0.355774</td>\n",
       "      <td>...</td>\n",
       "      <td>0.184604</td>\n",
       "      <td>0.188750</td>\n",
       "      <td>0.217757</td>\n",
       "      <td>0.307132</td>\n",
       "      <td>0.211078</td>\n",
       "      <td>0.239659</td>\n",
       "      <td>0.339125</td>\n",
       "      <td>0.213026</td>\n",
       "      <td>0.288961</td>\n",
       "      <td>0.196192</td>\n",
       "    </tr>\n",
       "    <tr>\n",
       "      <th>50%</th>\n",
       "      <td>0.351722</td>\n",
       "      <td>0.397083</td>\n",
       "      <td>0.609836</td>\n",
       "      <td>0.533962</td>\n",
       "      <td>0.527381</td>\n",
       "      <td>0.467431</td>\n",
       "      <td>0.493428</td>\n",
       "      <td>0.453052</td>\n",
       "      <td>0.420723</td>\n",
       "      <td>0.603635</td>\n",
       "      <td>...</td>\n",
       "      <td>0.317857</td>\n",
       "      <td>0.466375</td>\n",
       "      <td>0.413071</td>\n",
       "      <td>0.512941</td>\n",
       "      <td>0.373235</td>\n",
       "      <td>0.486317</td>\n",
       "      <td>0.610860</td>\n",
       "      <td>0.417295</td>\n",
       "      <td>0.426863</td>\n",
       "      <td>0.481601</td>\n",
       "    </tr>\n",
       "    <tr>\n",
       "      <th>75%</th>\n",
       "      <td>0.582278</td>\n",
       "      <td>0.582178</td>\n",
       "      <td>0.791215</td>\n",
       "      <td>0.754841</td>\n",
       "      <td>0.743164</td>\n",
       "      <td>0.743670</td>\n",
       "      <td>0.753657</td>\n",
       "      <td>0.722293</td>\n",
       "      <td>0.778160</td>\n",
       "      <td>0.741381</td>\n",
       "      <td>...</td>\n",
       "      <td>0.572330</td>\n",
       "      <td>0.652514</td>\n",
       "      <td>0.604753</td>\n",
       "      <td>0.779378</td>\n",
       "      <td>0.710319</td>\n",
       "      <td>0.616181</td>\n",
       "      <td>0.800666</td>\n",
       "      <td>0.606719</td>\n",
       "      <td>0.682164</td>\n",
       "      <td>0.631426</td>\n",
       "    </tr>\n",
       "    <tr>\n",
       "      <th>max</th>\n",
       "      <td>0.968460</td>\n",
       "      <td>0.905026</td>\n",
       "      <td>0.983306</td>\n",
       "      <td>0.999393</td>\n",
       "      <td>0.990786</td>\n",
       "      <td>1.000000</td>\n",
       "      <td>0.977520</td>\n",
       "      <td>0.995263</td>\n",
       "      <td>0.963235</td>\n",
       "      <td>0.975586</td>\n",
       "      <td>...</td>\n",
       "      <td>0.973679</td>\n",
       "      <td>0.950218</td>\n",
       "      <td>0.983826</td>\n",
       "      <td>0.989411</td>\n",
       "      <td>0.942549</td>\n",
       "      <td>0.994460</td>\n",
       "      <td>0.996873</td>\n",
       "      <td>0.925924</td>\n",
       "      <td>0.972803</td>\n",
       "      <td>0.797906</td>\n",
       "    </tr>\n",
       "  </tbody>\n",
       "</table>\n",
       "<p>8 rows × 24 columns</p>\n",
       "</div>"
      ]
     },
     "execution_count": 158,
     "metadata": {},
     "output_type": "execute_result"
    }
   ],
   "execution_count": 158
  },
  {
   "metadata": {
    "ExecuteTime": {
     "end_time": "2025-03-08T15:24:32.536435Z",
     "start_time": "2025-03-08T15:24:32.533361Z"
    }
   },
   "cell_type": "code",
   "source": "train[\"ALT\"]",
   "id": "d6f0477710e8f8df",
   "outputs": [
    {
     "data": {
      "text/plain": [
       "0       0.064187\n",
       "1       0.942549\n",
       "2       0.007186\n",
       "3       0.265415\n",
       "4       0.015280\n",
       "          ...   \n",
       "2346    0.155866\n",
       "2347    0.790341\n",
       "2348    0.250535\n",
       "2349    0.362012\n",
       "2350    0.680462\n",
       "Name: ALT, Length: 2351, dtype: float64"
      ]
     },
     "execution_count": 162,
     "metadata": {},
     "output_type": "execute_result"
    }
   ],
   "execution_count": 162
  },
  {
   "metadata": {},
   "cell_type": "code",
   "outputs": [],
   "execution_count": null,
   "source": "",
   "id": "19cdf4d4b5a9e8b6"
  },
  {
   "metadata": {
    "ExecuteTime": {
     "end_time": "2025-03-08T04:39:13.737449Z",
     "start_time": "2025-03-08T04:39:13.733401Z"
    }
   },
   "cell_type": "code",
   "source": [
    "X_train = train.drop(columns = [\"prognosis\"])\n",
    "y_train = pd.get_dummies(train[\"prognosis\"]).astype(int)\n",
    "X_test = test.drop(columns = [\"prognosis\"])\n",
    "y_test = pd.get_dummies(test[\"prognosis\"]).astype(int)\n",
    "\n",
    "diseases = y_train.columns"
   ],
   "id": "867c2623ec0ab76d",
   "outputs": [],
   "execution_count": 143
  },
  {
   "metadata": {
    "ExecuteTime": {
     "end_time": "2025-03-08T03:56:12.441306Z",
     "start_time": "2025-03-08T03:56:12.439787Z"
    }
   },
   "cell_type": "code",
   "source": "",
   "id": "d99574ca34d51189",
   "outputs": [],
   "execution_count": null
  },
  {
   "metadata": {
    "ExecuteTime": {
     "end_time": "2025-03-08T04:39:35.859959Z",
     "start_time": "2025-03-08T04:39:35.843132Z"
    }
   },
   "cell_type": "code",
   "source": [
    "class MyDataset(Dataset):\n",
    "    def __init__(self, X, y):\n",
    "        self.X = torch.Tensor(X.to_numpy()).to(device)\n",
    "        self.y = torch.Tensor(y.to_numpy().argmax(axis =1)).to(device)\n",
    "\n",
    "    def __len__(self):\n",
    "        return len(self.X)\n",
    "    def __getitem__(self, idx):\n",
    "        return self.X[idx], self.y[idx]\n",
    "\n",
    "train_set = MyDataset(X_train, y_train)\n",
    "test_set = MyDataset(X_test, y_test)\n",
    "\n",
    "train_loader = DataLoader(train_set, batch_size=16, shuffle=True)\n",
    "test_loader = DataLoader(test_set, batch_size=16, shuffle=False)"
   ],
   "id": "a3e997efde3c6a38",
   "outputs": [],
   "execution_count": 144
  },
  {
   "metadata": {
    "ExecuteTime": {
     "end_time": "2025-03-08T04:39:36.703808Z",
     "start_time": "2025-03-08T04:39:36.698741Z"
    }
   },
   "cell_type": "code",
   "source": [
    "class Net(nn.Module):\n",
    "    def __init__(self, n_layers, n_neurons, input_size = 132, output_size = len(y_train.columns)):\n",
    "        super(Net, self).__init__()\n",
    "\n",
    "        layers = []\n",
    "        if n_layers == 1:\n",
    "            layers.append(nn.Linear(input_size, output_size))\n",
    "            # layers.append(nn.Softmax(dim=1))\n",
    "        else:\n",
    "            layers.append(nn.Linear(input_size, n_neurons))\n",
    "            layers.append(nn.ReLU())\n",
    "            for i in range(n_layers-2):\n",
    "                layers.append(nn.Linear(n_neurons, n_neurons))\n",
    "                layers.append(nn.ReLU())\n",
    "            layers.append(nn.Linear(n_neurons, output_size))\n",
    "            # layers.append(nn.Softmax(dim=1))\n",
    "\n",
    "        self.layers = nn.Sequential(*layers)\n",
    "\n",
    "\n",
    "    def forward(self, x):\n",
    "        return self.layers(x)\n",
    "\n"
   ],
   "id": "dcb697103653ccf0",
   "outputs": [],
   "execution_count": 145
  },
  {
   "metadata": {
    "ExecuteTime": {
     "end_time": "2025-03-08T04:40:03.624648Z",
     "start_time": "2025-03-08T04:39:53.837690Z"
    }
   },
   "cell_type": "code",
   "source": [
    "def train_model(model, train_loader = train_loader, test_loader = test_loader, epochs = 10, lr = 0.001):\n",
    "\n",
    "    train_losses = []\n",
    "    test_losses = []\n",
    "\n",
    "    model.to(device)\n",
    "\n",
    "    criterion = nn.CrossEntropyLoss()\n",
    "    optimizer = torch.optim.AdamW(model.parameters(), lr=lr)\n",
    "\n",
    "\n",
    "    for epoch in range(epochs):\n",
    "        full_train_loss = 0\n",
    "        full_test_loss = 0\n",
    "\n",
    "        print(\"Epoch {}/{}:\".format(epoch + 1, epochs), end=\" \")\n",
    "\n",
    "        for X, y in train_loader:\n",
    "            model.train()\n",
    "            optimizer.zero_grad()\n",
    "\n",
    "            y_pred = model(X)\n",
    "            loss = criterion(y_pred, y)\n",
    "            loss.backward()\n",
    "            optimizer.step()\n",
    "            full_train_loss += loss.item()\n",
    "        full_train_loss /= len(train_loader)\n",
    "        train_losses.append(full_train_loss)\n",
    "\n",
    "        print(\"Train loss: {:.4f}\".format(full_train_loss), end='')\n",
    "\n",
    "        for X, y in test_loader:\n",
    "            model.eval()\n",
    "            y_pred = model(X)\n",
    "            loss = criterion(y_pred, y)\n",
    "            full_test_loss += loss.item()\n",
    "        full_test_loss /= len(test_loader)\n",
    "        test_losses.append(full_test_loss)\n",
    "\n",
    "        print(\"Test loss: {:.4f}\".format(full_test_loss))\n",
    "\n",
    "    return train_losses, test_losses\n",
    "\n",
    "\n",
    "\n",
    "model = Net(3,10)\n",
    "train_model(model)\n",
    "\n"
   ],
   "id": "d36da03d3818b026",
   "outputs": [
    {
     "name": "stdout",
     "output_type": "stream",
     "text": [
      "Epoch 1/10: Train loss: 3.2602Test loss: 2.2974\n",
      "Epoch 2/10: Train loss: 1.4031Test loss: 0.6298\n",
      "Epoch 3/10: Train loss: 0.3245Test loss: 0.1377\n",
      "Epoch 4/10: Train loss: 0.0842Test loss: 0.0706\n",
      "Epoch 5/10: Train loss: 0.0365Test loss: 0.0578\n",
      "Epoch 6/10: Train loss: 0.0205Test loss: 0.0562\n",
      "Epoch 7/10: Train loss: 0.0131Test loss: 0.0566\n",
      "Epoch 8/10: Train loss: 0.0090Test loss: 0.0589\n",
      "Epoch 9/10: Train loss: 0.0066Test loss: 0.0622\n",
      "Epoch 10/10: Train loss: 0.0050Test loss: 0.0674\n"
     ]
    },
    {
     "data": {
      "text/plain": [
       "([3.260214192139638,\n",
       "  1.4030665182448052,\n",
       "  0.32445440528454716,\n",
       "  0.08420769844881514,\n",
       "  0.03646702803187556,\n",
       "  0.020460271863145876,\n",
       "  0.013095274965230424,\n",
       "  0.00904989969469123,\n",
       "  0.006555885849097235,\n",
       "  0.00496807359665475],\n",
       " [2.297384738922119,\n",
       "  0.629833588997523,\n",
       "  0.13768239319324493,\n",
       "  0.07064247876405716,\n",
       "  0.05776903157432874,\n",
       "  0.05619792484988769,\n",
       "  0.05656601317847768,\n",
       "  0.05891837536667784,\n",
       "  0.06217548126975695,\n",
       "  0.06739005229125421])"
      ]
     },
     "execution_count": 146,
     "metadata": {},
     "output_type": "execute_result"
    }
   ],
   "execution_count": 146
  },
  {
   "metadata": {
    "ExecuteTime": {
     "end_time": "2025-03-08T03:13:05.677761Z",
     "start_time": "2025-03-08T03:13:05.672788Z"
    }
   },
   "cell_type": "code",
   "source": "",
   "id": "995ebe909bdb6d3",
   "outputs": [
    {
     "data": {
      "text/plain": [
       "41"
      ]
     },
     "execution_count": 64,
     "metadata": {},
     "output_type": "execute_result"
    }
   ],
   "execution_count": 64
  },
  {
   "metadata": {
    "ExecuteTime": {
     "end_time": "2025-03-08T03:22:10.513045Z",
     "start_time": "2025-03-08T03:22:10.511009Z"
    }
   },
   "cell_type": "code",
   "source": "",
   "id": "ecda31ebdc00524c",
   "outputs": [],
   "execution_count": null
  },
  {
   "metadata": {
    "ExecuteTime": {
     "end_time": "2025-03-08T04:13:40.485571Z",
     "start_time": "2025-03-08T04:13:40.481416Z"
    }
   },
   "cell_type": "code",
   "source": "",
   "id": "806b6c67a8535ae1",
   "outputs": [
    {
     "name": "stdout",
     "output_type": "stream",
     "text": [
      "11cdef\n"
     ]
    }
   ],
   "execution_count": 130
  },
  {
   "metadata": {
    "ExecuteTime": {
     "end_time": "2025-03-08T04:41:04.631516Z",
     "start_time": "2025-03-08T04:41:04.629478Z"
    }
   },
   "cell_type": "code",
   "source": "",
   "id": "781e4628cc42bf4",
   "outputs": [],
   "execution_count": null
  },
  {
   "metadata": {
    "ExecuteTime": {
     "end_time": "2025-03-10T00:53:40.221808Z",
     "start_time": "2025-03-10T00:53:40.121187Z"
    }
   },
   "cell_type": "code",
   "source": [
    "import torch\n",
    "import torch.nn as nn\n",
    "import torch.optim as optim\n",
    "from sklearn.model_selection import train_test_split\n",
    "from sklearn.preprocessing import StandardScaler\n",
    "import numpy as np\n",
    "\n",
    "# Generowanie przykładowych danych\n",
    "np.random.seed(42)\n",
    "torch.manual_seed(42)\n",
    "X = np.random.rand(1000, 2) * 10  # 1000 próbek, 2 cechy\n",
    "y = (X[:, 0] + X[:, 1] > 10).astype(np.float32)  # Klasa 1 jeśli suma cech > 10\n",
    "\n",
    "# Podział na zestawy treningowy i testowy\n",
    "X_train, X_test, y_train, y_test = train_test_split(X, y, test_size=0.2, random_state=42)\n",
    "\n",
    "# Standaryzacja danych\n",
    "scaler = StandardScaler()\n",
    "X_train = scaler.fit_transform(X_train)\n",
    "X_test = scaler.transform(X_test)\n",
    "\n",
    "# Konwersja do tensora\n",
    "X_train_tensor = torch.tensor(X_train, dtype=torch.float32)\n",
    "X_test_tensor = torch.tensor(X_test, dtype=torch.float32)\n",
    "y_train_tensor = torch.tensor(y_train, dtype=torch.float32).view(-1, 1)\n",
    "y_test_tensor = torch.tensor(y_test, dtype=torch.float32).view(-1, 1)\n",
    "\n",
    "# Definicja modelu\n",
    "class BinaryClassifier(nn.Module):\n",
    "    def __init__(self):\n",
    "        super(BinaryClassifier, self).__init__()\n",
    "        self.fc = nn.Linear(2, 1)  # Warstwa liniowa\n",
    "        self.sigmoid = nn.Sigmoid()\n",
    "\n",
    "    def forward(self, x):\n",
    "        return self.sigmoid(self.fc(x))\n",
    "\n",
    "# Inicjalizacja modelu, funkcji straty i optymalizatora\n",
    "model = BinaryClassifier()\n",
    "criterion = nn.BCELoss()  # Binary Cross Entropy Loss\n",
    "optimizer = optim.Adam(model.parameters(), lr=0.01)\n",
    "\n",
    "# Trening modelu\n",
    "epochs = 100\n",
    "for epoch in range(epochs):\n",
    "    optimizer.zero_grad()\n",
    "    outputs = model(X_train_tensor)\n",
    "    print(outputs.shape, y_train_tensor.shape)\n",
    "    1+''\n",
    "    loss = criterion(outputs, y_train_tensor)\n",
    "    loss.backward()\n",
    "    optimizer.step()\n",
    "\n",
    "    if (epoch+1) % 10 == 0:\n",
    "        print(f'Epoch [{epoch+1}/{epochs}], Loss: {loss.item():.4f}')\n",
    "\n",
    "# Ewaluacja\n",
    "with torch.no_grad():\n",
    "    y_pred = model(X_test_tensor)\n",
    "    y_pred_classes = (y_pred >= 0.5).float()\n",
    "    accuracy = (y_pred_classes.eq(y_test_tensor).sum() / y_test_tensor.shape[0]).item()\n",
    "    print(f'Accuracy: {accuracy:.4f}')\n"
   ],
   "id": "db46f30f143125e4",
   "outputs": [
    {
     "name": "stdout",
     "output_type": "stream",
     "text": [
      "torch.Size([800, 1]) torch.Size([800, 1])\n"
     ]
    },
    {
     "ename": "TypeError",
     "evalue": "unsupported operand type(s) for +: 'int' and 'str'",
     "output_type": "error",
     "traceback": [
      "\u001B[0;31m---------------------------------------------------------------------------\u001B[0m",
      "\u001B[0;31mTypeError\u001B[0m                                 Traceback (most recent call last)",
      "Cell \u001B[0;32mIn[5], line 49\u001B[0m\n\u001B[1;32m     47\u001B[0m outputs \u001B[38;5;241m=\u001B[39m model(X_train_tensor)\n\u001B[1;32m     48\u001B[0m \u001B[38;5;28mprint\u001B[39m(outputs\u001B[38;5;241m.\u001B[39mshape, y_train_tensor\u001B[38;5;241m.\u001B[39mshape)\n\u001B[0;32m---> 49\u001B[0m \u001B[38;5;241;43m1\u001B[39;49m\u001B[38;5;241;43m+\u001B[39;49m\u001B[38;5;124;43m'\u001B[39;49m\u001B[38;5;124;43m'\u001B[39;49m\n\u001B[1;32m     50\u001B[0m loss \u001B[38;5;241m=\u001B[39m criterion(outputs, y_train_tensor)\n\u001B[1;32m     51\u001B[0m loss\u001B[38;5;241m.\u001B[39mbackward()\n",
      "\u001B[0;31mTypeError\u001B[0m: unsupported operand type(s) for +: 'int' and 'str'"
     ]
    }
   ],
   "execution_count": 5
  },
  {
   "metadata": {},
   "cell_type": "code",
   "outputs": [],
   "execution_count": null,
   "source": "",
   "id": "94bd1c0c99d254c1"
  }
 ],
 "metadata": {
  "kernelspec": {
   "display_name": "Python 3",
   "language": "python",
   "name": "python3"
  },
  "language_info": {
   "codemirror_mode": {
    "name": "ipython",
    "version": 2
   },
   "file_extension": ".py",
   "mimetype": "text/x-python",
   "name": "python",
   "nbconvert_exporter": "python",
   "pygments_lexer": "ipython2",
   "version": "2.7.6"
  }
 },
 "nbformat": 4,
 "nbformat_minor": 5
}
